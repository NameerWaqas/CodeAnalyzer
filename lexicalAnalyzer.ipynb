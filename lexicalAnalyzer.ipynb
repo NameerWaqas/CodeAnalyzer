{
  "nbformat": 4,
  "nbformat_minor": 0,
  "metadata": {
    "colab": {
      "name": "lexicalAnalyzer.ipynb",
      "provenance": [],
      "collapsed_sections": [],
      "include_colab_link": true
    },
    "kernelspec": {
      "name": "python3",
      "display_name": "Python 3"
    }
  },
  "cells": [
    {
      "cell_type": "markdown",
      "metadata": {
        "id": "view-in-github",
        "colab_type": "text"
      },
      "source": [
        "<a href=\"https://colab.research.google.com/github/NameerWaqas/CodeAnalyzer/blob/master/lexicalAnalyzer.ipynb\" target=\"_parent\"><img src=\"https://colab.research.google.com/assets/colab-badge.svg\" alt=\"Open In Colab\"/></a>"
      ]
    },
    {
      "cell_type": "markdown",
      "metadata": {
        "id": "Ldizantpi02J"
      },
      "source": [
        "**This Notebook aims to hold the code of *Lexical analyzer* to tokenize syntax of our *Roman language compiler*.**"
      ]
    },
    {
      "cell_type": "markdown",
      "metadata": {
        "id": "D_iSBsZFzYZo"
      },
      "source": [
        "All Imports"
      ]
    },
    {
      "cell_type": "code",
      "metadata": {
        "id": "oeVUyJ05zZ9T"
      },
      "source": [
        "import re"
      ],
      "execution_count": 1,
      "outputs": []
    },
    {
      "cell_type": "markdown",
      "metadata": {
        "id": "hHPnq3VDzf0f"
      },
      "source": [
        "Editor Area"
      ]
    },
    {
      "cell_type": "code",
      "metadata": {
        "id": "RrFKEVbQklu0"
      },
      "source": [
        "str = \"\"\"int age nameer _ammar main class  = ; \n",
        "\"\"\" \n",
        "#may it wiil come directly from the Text box."
      ],
      "execution_count": 9,
      "outputs": []
    },
    {
      "cell_type": "markdown",
      "metadata": {
        "id": "xCUUQXwvzi3b"
      },
      "source": [
        "Breaking whole code string into character array"
      ]
    },
    {
      "cell_type": "code",
      "metadata": {
        "colab": {
          "base_uri": "https://localhost:8080/"
        },
        "id": "mXEaoD_vE_oc",
        "outputId": "e92aed21-86ad-4f81-c197-19086bb065e1"
      },
      "source": [
        "charArr = list(str) #Character list/array.\n",
        "print(charArr)"
      ],
      "execution_count": 10,
      "outputs": [
        {
          "output_type": "stream",
          "text": [
            "['i', 'n', 't', ' ', 'a', 'g', 'e', ' ', 'n', 'a', 'm', 'e', 'e', 'r', ' ', '_', 'a', 'm', 'm', 'a', 'r', ' ', 'm', 'a', 'i', 'n', ' ', 'c', 'l', 'a', 's', 's', ' ', ' ', '=', ' ', ';', ' ', '\\n']\n"
          ],
          "name": "stdout"
        }
      ]
    },
    {
      "cell_type": "markdown",
      "metadata": {
        "id": "88wopCbXj7El"
      },
      "source": [
        "**Below cell holds the dictionary that has values of all the classes of our language.**"
      ]
    },
    {
      "cell_type": "code",
      "metadata": {
        "id": "fDFtKGGmGpTx"
      },
      "source": [
        "Classes = {\n",
        "    \"PM\":['+','-'], #Plus Minus class\n",
        "    \"MDM\":['*','/','%'],#Binary operator class\n",
        "    \"CompOpr\":[\"+=\",\"-=\",\"*=\",\"/=\",\"%=\"], #Comparision operator class\n",
        "    \"AssignmentOpr\":['='],#Assignment operator class,\n",
        "    \"TerminatorOpr\":[';'],#Comparision operator\n",
        "    \"DataType\":[\"int\",\"float\",\"bool\",\"string\",\"char\"],# Data types,\n",
        "    \"Keyword\":[\"main\",\"class\",\"return\",\"function\"]# Keywords\n",
        "    #A class part will be added to handle all the values that have a same calss as value part.\n",
        "}"
      ],
      "execution_count": 12,
      "outputs": []
    },
    {
      "cell_type": "code",
      "metadata": {
        "id": "jS-TXC45Jmq8"
      },
      "source": [
        "lineNumber = 1 # The number of current line of code.\n"
      ],
      "execution_count": 5,
      "outputs": []
    },
    {
      "cell_type": "code",
      "metadata": {
        "id": "Ra4guYk2nh3K"
      },
      "source": [
        "def ClassPartAllocator(param):\n",
        "    if param==\"\":\n",
        "        return -1\n",
        "    for key,value in Classes.items():\n",
        "        if param in value:\n",
        "            return key\n",
        "    return -1"
      ],
      "execution_count": 7,
      "outputs": []
    },
    {
      "cell_type": "code",
      "metadata": {
        "colab": {
          "base_uri": "https://localhost:8080/"
        },
        "id": "3Q62KXBrijEO",
        "outputId": "0735e52a-1b68-49f3-b283-46a0bba0530e"
      },
      "source": [
        "def WordTokernizer():\n",
        "    temp = \"\" #To hold value temporarily\n",
        "    tokenSet=[]\n",
        "    for char in charArr:\n",
        "        if char == \" \":\n",
        "            classPart = ClassPartAllocator(temp)\n",
        "            if classPart == -1:\n",
        "                classPart = \"Identifier\" if re.match(\"^[a-z|_]([a-zA-Z0-9]{1,25})?$\",temp) else \"Invalid\"\n",
        "            tokenSet.append((classPart,temp,lineNumber))\n",
        "            temp=\"\"\n",
        "        elif char==\"=\" or char == \";\":\n",
        "            temp = temp + char\n",
        "            classPart = ClassPartAllocator(char)\n",
        "            tokenSet.append((classPart,temp,lineNumber))\n",
        "        else:\n",
        "            if re.match(\"^[a-zA-Z0-9]$\",char) :\n",
        "                temp = temp + char\n",
        "                continue\n",
        "    print(tokenSet)\n",
        "WordTokernizer()"
      ],
      "execution_count": 11,
      "outputs": [
        {
          "output_type": "stream",
          "text": [
            "[('DataType', 'int', 1), ('Identifier', 'age', 1), ('Identifier', 'nameer', 1), ('Identifier', 'ammar', 1), ('Keyword', 'main', 1), ('Keyword', 'class', 1), ('Invalid', '', 1), ('AssignmentOpr', '=', 1), ('AssignmentOpr', '=', 1), ('TerminatorOpr', ';', 1), ('TerminatorOpr', ';', 1)]\n"
          ],
          "name": "stdout"
        }
      ]
    },
    {
      "cell_type": "code",
      "metadata": {
        "id": "1bGyp4_H8XIm"
      },
      "source": [
        ""
      ],
      "execution_count": null,
      "outputs": []
    }
  ]
}