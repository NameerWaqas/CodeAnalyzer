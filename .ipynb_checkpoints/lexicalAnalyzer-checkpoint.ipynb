{
 "cells": [
  {
   "cell_type": "markdown",
   "metadata": {
    "colab_type": "text",
    "id": "view-in-github"
   },
   "source": [
    "<a href=\"https://colab.research.google.com/github/NameerWaqas/CodeAnalyzer/blob/master/lexicalAnalyzer.ipynb\" target=\"_parent\"><img src=\"https://colab.research.google.com/assets/colab-badge.svg\" alt=\"Open In Colab\"/></a>"
   ]
  },
  {
   "cell_type": "markdown",
   "metadata": {
    "id": "Ldizantpi02J"
   },
   "source": [
    "**This Notebook aims to hold the code of *Lexical analyzer* to tokenize syntax of our *Roman language compiler*.**"
   ]
  },
  {
   "cell_type": "markdown",
   "metadata": {
    "id": "D_iSBsZFzYZo"
   },
   "source": [
    "All Imports"
   ]
  },
  {
   "cell_type": "code",
   "execution_count": 1,
   "metadata": {
    "id": "oeVUyJ05zZ9T"
   },
   "outputs": [],
   "source": [
    "import re #Importing ReGex module"
   ]
  },
  {
   "cell_type": "markdown",
   "metadata": {
    "id": "hHPnq3VDzf0f"
   },
   "source": [
    "Editor Area"
   ]
  },
  {
   "cell_type": "code",
   "execution_count": 9,
   "metadata": {
    "id": "RrFKEVbQklu0"
   },
   "outputs": [],
   "source": [
    "str = \"\"\"int age nameer _ammar main class  = ; \n",
    "\"\"\" \n",
<<<<<<< HEAD
    "#may it wiil come directly from the Text box."
=======
    "#may it will come directly from the Text box."
>>>>>>> nameer
   ]
  },
  {
   "cell_type": "markdown",
   "metadata": {
    "id": "xCUUQXwvzi3b"
   },
   "source": [
    "Breaking whole code string into character array"
   ]
  },
  {
   "cell_type": "code",
   "execution_count": 10,
   "metadata": {
    "colab": {
     "base_uri": "https://localhost:8080/"
    },
    "id": "mXEaoD_vE_oc",
    "outputId": "e92aed21-86ad-4f81-c197-19086bb065e1"
   },
   "outputs": [
    {
     "name": "stdout",
     "output_type": "stream",
     "text": [
      "['i', 'n', 't', ' ', 'a', 'g', 'e', ' ', 'n', 'a', 'm', 'e', 'e', 'r', ' ', '_', 'a', 'm', 'm', 'a', 'r', ' ', 'm', 'a', 'i', 'n', ' ', 'c', 'l', 'a', 's', 's', ' ', ' ', '=', ' ', ';', ' ', '\\n']\n"
     ]
    }
   ],
   "source": [
    "charArr = list(str) #Character list/array.\n",
    "print(charArr)"
   ]
  },
  {
   "cell_type": "markdown",
   "metadata": {
    "id": "88wopCbXj7El"
   },
   "source": [
    "**Below cell holds the dictionary that has values of all the classes of our language.**"
   ]
  },
  {
   "cell_type": "code",
   "execution_count": 12,
   "metadata": {
    "id": "fDFtKGGmGpTx"
   },
   "outputs": [],
   "source": [
    "Classes = {\n",
<<<<<<< HEAD
    "    \"BTOC\" : ['void','jabtak','agar','warna','return','main','class','naya','passive','!','ya','aur','='],\n",
    "    \"BTOCClassTypes\":['Void','Jabtak','Agar','Warna','Return','Main','Class','Naya','Passive']\n",
    "    \"Void\": ['void']\n",
    "    \"While\": ['jabtak']\n",
    "    \"If\":['agar']\n",
    "    'Else':['warna']\n",
    "    'Return':['return']\n",
    "    'Main':['main']\n",
    "    'Class':['class']\n",
    "    'New':['naya']\n",
    "    'Passive':['abstract']\n",
    "    'Not':['!']\n",
    "    'Or':['ya']\n",
    "    'And':['aur']\n",
    "    'Equal':['=']\n",
    "\n",
    "    \n",
    "    \"BrkCont\": ['roko','jari'] #Break Continue\n",
=======
>>>>>>> nameer
    "    \"PM\":['+','-'], #Plus Minus class\n",
    "    \"MDM\":['*','/','%'],#Binary operator class\n",
    "    \"CompOpr\":[\"+=\",\"-=\",\"*=\",\"/=\",\"%=\"], #Comparision operator class\n",
    "    \"AssignmentOpr\":['='],#Assignment operator class,\n",
    "    \"TerminatorOpr\":[';'],#Comparision operator\n",
    "    \"DataType\":[\"int\",\"float\",\"bool\",\"string\",\"char\"],# Data types,\n",
    "    \"Keyword\":[\"main\",\"class\",\"return\",\"function\"]# Keywords\n",
<<<<<<< HEAD
    "    \"AM\":[\"ijtemai\",\"infiradi\",\"protected\",\"andruni\"] #Access Modifiers\n",
    "    \"VO\":['arzi','badlo'] #Virtual Override\n",
=======
>>>>>>> nameer
    "    #A class part will be added to handle all the values that have a same calss as value part.\n",
    "}"
   ]
  },
  {
   "cell_type": "code",
   "execution_count": 5,
   "metadata": {
    "id": "jS-TXC45Jmq8"
   },
   "outputs": [],
   "source": [
    "lineNumber = 1 # The number of current line of code.\n"
   ]
  },
  {
   "cell_type": "code",
   "execution_count": 7,
   "metadata": {
    "id": "Ra4guYk2nh3K"
   },
   "outputs": [],
   "source": [
    "def ClassPartAllocator(param):\n",
    "    if param==\"\":\n",
    "        return -1\n",
    "    for key,value in Classes.items():\n",
    "        if param in value:\n",
    "            return key\n",
    "    return -1"
   ]
  },
  {
   "cell_type": "code",
   "execution_count": 11,
   "metadata": {
    "colab": {
     "base_uri": "https://localhost:8080/"
    },
    "id": "3Q62KXBrijEO",
    "outputId": "0735e52a-1b68-49f3-b283-46a0bba0530e"
   },
   "outputs": [
    {
     "name": "stdout",
     "output_type": "stream",
     "text": [
      "[('DataType', 'int', 1), ('Identifier', 'age', 1), ('Identifier', 'nameer', 1), ('Identifier', 'ammar', 1), ('Keyword', 'main', 1), ('Keyword', 'class', 1), ('Invalid', '', 1), ('AssignmentOpr', '=', 1), ('AssignmentOpr', '=', 1), ('TerminatorOpr', ';', 1), ('TerminatorOpr', ';', 1)]\n"
     ]
    }
   ],
   "source": [
    "def WordTokernizer():\n",
    "    temp = \"\" #To hold value temporarily\n",
    "    tokenSet=[]\n",
    "    for char in charArr:\n",
    "        if char == \" \":\n",
    "            classPart = ClassPartAllocator(temp)\n",
    "            if classPart == -1:\n",
    "                classPart = \"Identifier\" if re.match(\"^[a-z|_]([a-zA-Z0-9]{1,25})?$\",temp) else \"Invalid\"\n",
    "            tokenSet.append((classPart,temp,lineNumber))\n",
    "            temp=\"\"\n",
    "        elif char==\"=\" or char == \";\":\n",
    "            temp = temp + char\n",
    "            classPart = ClassPartAllocator(char)\n",
    "            tokenSet.append((classPart,temp,lineNumber))\n",
    "        else:\n",
    "            if re.match(\"^[a-zA-Z0-9]$\",char) :\n",
    "                temp = temp + char\n",
    "                continue\n",
    "    print(tokenSet)\n",
    "WordTokernizer()"
   ]
  },
  {
   "cell_type": "code",
   "execution_count": null,
   "metadata": {
    "id": "1bGyp4_H8XIm"
   },
   "outputs": [],
   "source": []
  }
 ],
 "metadata": {
  "colab": {
   "collapsed_sections": [],
   "include_colab_link": true,
   "name": "lexicalAnalyzer.ipynb",
   "provenance": []
  },
  "kernelspec": {
   "display_name": "Python 3",
   "language": "python",
   "name": "python3"
  },
  "language_info": {
   "codemirror_mode": {
    "name": "ipython",
    "version": 3
   },
   "file_extension": ".py",
   "mimetype": "text/x-python",
   "name": "python",
   "nbconvert_exporter": "python",
   "pygments_lexer": "ipython3",
   "version": "3.8.3"
  }
 },
 "nbformat": 4,
 "nbformat_minor": 1
}
